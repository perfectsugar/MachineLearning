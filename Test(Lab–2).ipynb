{
  "nbformat": 4,
  "nbformat_minor": 0,
  "metadata": {
    "colab": {
      "name": "Test(Lab–2).ipynb",
      "version": "0.3.2",
      "provenance": [],
      "collapsed_sections": [
        "b_KhfiUvInju"
      ],
      "toc_visible": true,
      "include_colab_link": true
    },
    "language_info": {
      "codemirror_mode": {
        "name": "ipython",
        "version": 3
      },
      "file_extension": ".py",
      "mimetype": "text/x-python",
      "name": "python",
      "nbconvert_exporter": "python",
      "pygments_lexer": "ipython3",
      "version": "3.6.8"
    },
    "kernelspec": {
      "name": "python3",
      "display_name": "Python 3"
    },
    "accelerator": "GPU"
  },
  "cells": [
    {
      "cell_type": "markdown",
      "metadata": {
        "id": "view-in-github",
        "colab_type": "text"
      },
      "source": [
        "<a href=\"https://colab.research.google.com/github/perfectsugar/MachineLearning/blob/master/Test(Lab%E2%80%932).ipynb\" target=\"_parent\"><img src=\"https://colab.research.google.com/assets/colab-badge.svg\" alt=\"Open In Colab\"/></a>"
      ]
    },
    {
      "cell_type": "code",
      "metadata": {
        "id": "zk5JXT9K3tO6",
        "colab_type": "code",
        "outputId": "092cc53c-179b-43e8-fc0f-d21a876ee8b5",
        "colab": {
          "base_uri": "https://localhost:8080/",
          "height": 34
        }
      },
      "source": [
        "%reset"
      ],
      "execution_count": 0,
      "outputs": [
        {
          "output_type": "stream",
          "text": [
            "Once deleted, variables cannot be recovered. Proceed (y/[n])? y\n"
          ],
          "name": "stdout"
        }
      ]
    },
    {
      "cell_type": "code",
      "metadata": {
        "colab_type": "code",
        "id": "TpQGFSfXABIS",
        "colab": {
          "base_uri": "https://localhost:8080/",
          "height": 1533
        },
        "outputId": "c8ef0b6b-3cb9-41a2-82a0-28e8bb3b25b3"
      },
      "source": [
        "%%time\n",
        "!cat /proc/cpuinfo\n",
        "!system_profiler SPHardwareDataType\n",
        "from tensorflow.python.client import device_lib\n",
        "print(device_lib.list_local_devices())\n",
        "# Google ColabのGPU割り当て設定を確認する\n",
        "!ln -sf /opt/bin/nvidia-smi /usr/bin/nvidia-smi"
      ],
      "execution_count": 9,
      "outputs": [
        {
          "output_type": "stream",
          "text": [
            "processor\t: 0\n",
            "vendor_id\t: GenuineIntel\n",
            "cpu family\t: 6\n",
            "model\t\t: 63\n",
            "model name\t: Intel(R) Xeon(R) CPU @ 2.30GHz\n",
            "stepping\t: 0\n",
            "microcode\t: 0x1\n",
            "cpu MHz\t\t: 2300.000\n",
            "cache size\t: 46080 KB\n",
            "physical id\t: 0\n",
            "siblings\t: 2\n",
            "core id\t\t: 0\n",
            "cpu cores\t: 1\n",
            "apicid\t\t: 0\n",
            "initial apicid\t: 0\n",
            "fpu\t\t: yes\n",
            "fpu_exception\t: yes\n",
            "cpuid level\t: 13\n",
            "wp\t\t: yes\n",
            "flags\t\t: fpu vme de pse tsc msr pae mce cx8 apic sep mtrr pge mca cmov pat pse36 clflush mmx fxsr sse sse2 ss ht syscall nx pdpe1gb rdtscp lm constant_tsc rep_good nopl xtopology nonstop_tsc cpuid tsc_known_freq pni pclmulqdq ssse3 fma cx16 pcid sse4_1 sse4_2 x2apic movbe popcnt aes xsave avx f16c rdrand hypervisor lahf_lm abm invpcid_single pti ssbd ibrs ibpb stibp fsgsbase tsc_adjust bmi1 avx2 smep bmi2 erms invpcid xsaveopt arat arch_capabilities\n",
            "bugs\t\t: cpu_meltdown spectre_v1 spectre_v2 spec_store_bypass l1tf\n",
            "bogomips\t: 4600.00\n",
            "clflush size\t: 64\n",
            "cache_alignment\t: 64\n",
            "address sizes\t: 46 bits physical, 48 bits virtual\n",
            "power management:\n",
            "\n",
            "processor\t: 1\n",
            "vendor_id\t: GenuineIntel\n",
            "cpu family\t: 6\n",
            "model\t\t: 63\n",
            "model name\t: Intel(R) Xeon(R) CPU @ 2.30GHz\n",
            "stepping\t: 0\n",
            "microcode\t: 0x1\n",
            "cpu MHz\t\t: 2300.000\n",
            "cache size\t: 46080 KB\n",
            "physical id\t: 0\n",
            "siblings\t: 2\n",
            "core id\t\t: 0\n",
            "cpu cores\t: 1\n",
            "apicid\t\t: 1\n",
            "initial apicid\t: 1\n",
            "fpu\t\t: yes\n",
            "fpu_exception\t: yes\n",
            "cpuid level\t: 13\n",
            "wp\t\t: yes\n",
            "flags\t\t: fpu vme de pse tsc msr pae mce cx8 apic sep mtrr pge mca cmov pat pse36 clflush mmx fxsr sse sse2 ss ht syscall nx pdpe1gb rdtscp lm constant_tsc rep_good nopl xtopology nonstop_tsc cpuid tsc_known_freq pni pclmulqdq ssse3 fma cx16 pcid sse4_1 sse4_2 x2apic movbe popcnt aes xsave avx f16c rdrand hypervisor lahf_lm abm invpcid_single pti ssbd ibrs ibpb stibp fsgsbase tsc_adjust bmi1 avx2 smep bmi2 erms invpcid xsaveopt arat arch_capabilities\n",
            "bugs\t\t: cpu_meltdown spectre_v1 spectre_v2 spec_store_bypass l1tf\n",
            "bogomips\t: 4600.00\n",
            "clflush size\t: 64\n",
            "cache_alignment\t: 64\n",
            "address sizes\t: 46 bits physical, 48 bits virtual\n",
            "power management:\n",
            "\n",
            "/bin/bash: system_profiler: command not found\n",
            "[name: \"/device:CPU:0\"\n",
            "device_type: \"CPU\"\n",
            "memory_limit: 268435456\n",
            "locality {\n",
            "}\n",
            "incarnation: 12381960776485701987\n",
            ", name: \"/device:XLA_CPU:0\"\n",
            "device_type: \"XLA_CPU\"\n",
            "memory_limit: 17179869184\n",
            "locality {\n",
            "}\n",
            "incarnation: 10134211266880832835\n",
            "physical_device_desc: \"device: XLA_CPU device\"\n",
            ", name: \"/device:XLA_GPU:0\"\n",
            "device_type: \"XLA_GPU\"\n",
            "memory_limit: 17179869184\n",
            "locality {\n",
            "}\n",
            "incarnation: 10066672221259075879\n",
            "physical_device_desc: \"device: XLA_GPU device\"\n",
            ", name: \"/device:GPU:0\"\n",
            "device_type: \"GPU\"\n",
            "memory_limit: 11276946637\n",
            "locality {\n",
            "  bus_id: 1\n",
            "  links {\n",
            "  }\n",
            "}\n",
            "incarnation: 7741286563491601799\n",
            "physical_device_desc: \"device: 0, name: Tesla K80, pci bus id: 0000:00:04.0, compute capability: 3.7\"\n",
            "]\n",
            "CPU times: user 376 ms, sys: 280 ms, total: 656 ms\n",
            "Wall time: 8.38 s\n"
          ],
          "name": "stdout"
        }
      ]
    },
    {
      "cell_type": "markdown",
      "metadata": {
        "id": "b_KhfiUvInju",
        "colab_type": "text"
      },
      "source": [
        "# GDriveをマウントして利用する."
      ]
    },
    {
      "cell_type": "code",
      "metadata": {
        "colab_type": "code",
        "id": "NJhc2alyzJvB",
        "outputId": "751994eb-bbfe-412a-96a0-1b9a1a4aa1cf",
        "colab": {
          "base_uri": "https://localhost:8080/",
          "height": 122
        }
      },
      "source": [
        "from google.colab import drive\n",
        "drive.mount('/content/drive')"
      ],
      "execution_count": 0,
      "outputs": [
        {
          "output_type": "stream",
          "text": [
            "Go to this URL in a browser: https://accounts.google.com/o/oauth2/auth?client_id=947318989803-6bn6qk8qdgf4n4g3pfee6491hc0brc4i.apps.googleusercontent.com&redirect_uri=urn%3Aietf%3Awg%3Aoauth%3A2.0%3Aoob&scope=email%20https%3A%2F%2Fwww.googleapis.com%2Fauth%2Fdocs.test%20https%3A%2F%2Fwww.googleapis.com%2Fauth%2Fdrive%20https%3A%2F%2Fwww.googleapis.com%2Fauth%2Fdrive.photos.readonly%20https%3A%2F%2Fwww.googleapis.com%2Fauth%2Fpeopleapi.readonly&response_type=code\n",
            "\n",
            "Enter your authorization code:\n",
            "··········\n",
            "Mounted at /content/Data\n"
          ],
          "name": "stdout"
        }
      ]
    },
    {
      "cell_type": "code",
      "metadata": {
        "id": "46Y5ITiMEYjn",
        "colab_type": "code",
        "colab": {}
      },
      "source": [
        "import google.colab\n",
        "import googleapiclient.discovery\n",
        "import googleapiclient.http\n",
        "google.colab.auth.authenticate_user()\n",
        "drive_service = googleapiclient.discovery.build('drive', 'v3')"
      ],
      "execution_count": 0,
      "outputs": []
    },
    {
      "cell_type": "code",
      "metadata": {
        "id": "16llBsmHEsI7",
        "colab_type": "code",
        "outputId": "7f72da62-18cf-4484-c2a0-359a346d3e5e",
        "colab": {
          "base_uri": "https://localhost:8080/",
          "height": 34
        }
      },
      "source": [
        "cd /content/Data/My Drive/Colab Notebooks/"
      ],
      "execution_count": 0,
      "outputs": [
        {
          "output_type": "stream",
          "text": [
            "/content/Data/My Drive/Colab Notebooks\n"
          ],
          "name": "stdout"
        }
      ]
    },
    {
      "cell_type": "code",
      "metadata": {
        "id": "pARWqdpuEW0g",
        "colab_type": "code",
        "outputId": "c28efec2-c11a-42ec-b435-0809849ac698",
        "colab": {
          "base_uri": "https://localhost:8080/",
          "height": 85
        }
      },
      "source": [
        "upload_filename = 'heatmap2.zip'\n",
        "\n",
        "file_list = drive_service.files().list(q=\"name='\" + upload_filename + \"'\").execute().get('files')\n",
        "\n",
        "# ファイル ID を取得します。\n",
        "file_id = None\n",
        "for file in file_list:\n",
        "  if file.get('name') == upload_filename:\n",
        "    file_id = file.get('id')\n",
        "    break\n",
        "\n",
        "if file_id is None:\n",
        "  # ファイル ID を取得できなかった場合はエラーメッセージを出力します。\n",
        "  print(upload_filename + ' が見つかりません.')\n",
        "else:\n",
        "  # colab 環境へファイルをアップロードします。\n",
        "  with open(upload_filename, 'wb') as f:\n",
        "    request = drive_service.files().get_media(fileId=file_id)\n",
        "    media = googleapiclient.http.MediaIoBaseDownload(f, request)\n",
        "\n",
        "    done = False\n",
        "    while not done:\n",
        "      progress_status, done = media.next_chunk()\n",
        "      print(100*progress_status.progress(), end=\"\")\n",
        "      print(\"%完了\")\n",
        "\n",
        "  print('GoogleドライブからColab環境へのファイル取り込みが完了しました.')\n"
      ],
      "execution_count": 0,
      "outputs": [
        {
          "output_type": "stream",
          "text": [
            "36.613817279952244%完了\n",
            "73.22763455990449%完了\n",
            "100.0%完了\n",
            "GoogleドライブからColab環境へのファイル取り込みが完了しました.\n"
          ],
          "name": "stdout"
        }
      ]
    },
    {
      "cell_type": "code",
      "metadata": {
        "id": "5geonayeF5WK",
        "colab_type": "code",
        "outputId": "30bfa400-870c-4cd1-e74a-0eaf26e3b4af",
        "colab": {
          "base_uri": "https://localhost:8080/",
          "height": 34
        }
      },
      "source": [
        "!pwd"
      ],
      "execution_count": 0,
      "outputs": [
        {
          "output_type": "stream",
          "text": [
            "/content/Data/My Drive/Colab Notebooks\n"
          ],
          "name": "stdout"
        }
      ]
    },
    {
      "cell_type": "markdown",
      "metadata": {
        "id": "qO1MO_UHGKGt",
        "colab_type": "text"
      },
      "source": [
        "!tree\n",
        "!cp -r '/content/Data/My Drive/Colab Notebooks/Dataset_1' '/content/Data/My Drive/'"
      ]
    },
    {
      "cell_type": "markdown",
      "metadata": {
        "id": "22naTDizEabS",
        "colab_type": "text"
      },
      "source": [
        "# Local から Colaboratory上のディスクへデータを転送"
      ]
    },
    {
      "cell_type": "code",
      "metadata": {
        "id": "1xPFc5-Ja-XD",
        "colab_type": "code",
        "outputId": "4aa23879-6452-4269-a07c-82cb35084028",
        "colab": {
          "base_uri": "https://localhost:8080/",
          "height": 34
        }
      },
      "source": [
        "print(\"Hello World!\")"
      ],
      "execution_count": 10,
      "outputs": [
        {
          "output_type": "stream",
          "text": [
            "Hello World!\n"
          ],
          "name": "stdout"
        }
      ]
    },
    {
      "cell_type": "code",
      "metadata": {
        "id": "v2eUfmInt9S3",
        "colab_type": "code",
        "colab": {
          "base_uri": "https://localhost:8080/",
          "height": 1351
        },
        "outputId": "3e9be216-64c5-46c5-92bf-eefc0db50574"
      },
      "source": [
        "import os\n",
        "\n",
        "!pwd\n",
        "\n",
        "data_path = '/content/...' \n",
        "\n",
        "\n",
        "!ls /content/  \n",
        "\n",
        "!pwd\n",
        "\n",
        "!pip install hyperas\n",
        "!pip install hyperopt"
      ],
      "execution_count": 3,
      "outputs": [
        {
          "output_type": "stream",
          "text": [
            "/content\n",
            "sample_data\n",
            "/content\n",
            "Collecting hyperas\n",
            "  Downloading https://files.pythonhosted.org/packages/04/34/87ad6ffb42df9c1fa9c4c906f65813d42ad70d68c66af4ffff048c228cd4/hyperas-0.4.1-py3-none-any.whl\n",
            "Requirement already satisfied: entrypoints in /usr/local/lib/python3.6/dist-packages (from hyperas) (0.3)\n",
            "Requirement already satisfied: jupyter in /usr/local/lib/python3.6/dist-packages (from hyperas) (1.0.0)\n",
            "Requirement already satisfied: keras in /usr/local/lib/python3.6/dist-packages (from hyperas) (2.2.4)\n",
            "Requirement already satisfied: hyperopt in /usr/local/lib/python3.6/dist-packages (from hyperas) (0.1.2)\n",
            "Requirement already satisfied: nbconvert in /usr/local/lib/python3.6/dist-packages (from hyperas) (5.5.0)\n",
            "Requirement already satisfied: nbformat in /usr/local/lib/python3.6/dist-packages (from hyperas) (4.4.0)\n",
            "Requirement already satisfied: notebook in /usr/local/lib/python3.6/dist-packages (from jupyter->hyperas) (5.2.2)\n",
            "Requirement already satisfied: qtconsole in /usr/local/lib/python3.6/dist-packages (from jupyter->hyperas) (4.5.1)\n",
            "Requirement already satisfied: ipykernel in /usr/local/lib/python3.6/dist-packages (from jupyter->hyperas) (4.6.1)\n",
            "Requirement already satisfied: jupyter-console in /usr/local/lib/python3.6/dist-packages (from jupyter->hyperas) (6.0.0)\n",
            "Requirement already satisfied: ipywidgets in /usr/local/lib/python3.6/dist-packages (from jupyter->hyperas) (7.4.2)\n",
            "Requirement already satisfied: keras-preprocessing>=1.0.5 in /usr/local/lib/python3.6/dist-packages (from keras->hyperas) (1.0.9)\n",
            "Requirement already satisfied: six>=1.9.0 in /usr/local/lib/python3.6/dist-packages (from keras->hyperas) (1.12.0)\n",
            "Requirement already satisfied: numpy>=1.9.1 in /usr/local/lib/python3.6/dist-packages (from keras->hyperas) (1.16.4)\n",
            "Requirement already satisfied: h5py in /usr/local/lib/python3.6/dist-packages (from keras->hyperas) (2.8.0)\n",
            "Requirement already satisfied: pyyaml in /usr/local/lib/python3.6/dist-packages (from keras->hyperas) (3.13)\n",
            "Requirement already satisfied: keras-applications>=1.0.6 in /usr/local/lib/python3.6/dist-packages (from keras->hyperas) (1.0.7)\n",
            "Requirement already satisfied: scipy>=0.14 in /usr/local/lib/python3.6/dist-packages (from keras->hyperas) (1.3.0)\n",
            "Requirement already satisfied: pymongo in /usr/local/lib/python3.6/dist-packages (from hyperopt->hyperas) (3.8.0)\n",
            "Requirement already satisfied: tqdm in /usr/local/lib/python3.6/dist-packages (from hyperopt->hyperas) (4.28.1)\n",
            "Requirement already satisfied: future in /usr/local/lib/python3.6/dist-packages (from hyperopt->hyperas) (0.16.0)\n",
            "Requirement already satisfied: networkx in /usr/local/lib/python3.6/dist-packages (from hyperopt->hyperas) (2.3)\n",
            "Requirement already satisfied: mistune>=0.8.1 in /usr/local/lib/python3.6/dist-packages (from nbconvert->hyperas) (0.8.4)\n",
            "Requirement already satisfied: testpath in /usr/local/lib/python3.6/dist-packages (from nbconvert->hyperas) (0.4.2)\n",
            "Requirement already satisfied: bleach in /usr/local/lib/python3.6/dist-packages (from nbconvert->hyperas) (3.1.0)\n",
            "Requirement already satisfied: pygments in /usr/local/lib/python3.6/dist-packages (from nbconvert->hyperas) (2.1.3)\n",
            "Requirement already satisfied: jinja2>=2.4 in /usr/local/lib/python3.6/dist-packages (from nbconvert->hyperas) (2.10.1)\n",
            "Requirement already satisfied: pandocfilters>=1.4.1 in /usr/local/lib/python3.6/dist-packages (from nbconvert->hyperas) (1.4.2)\n",
            "Requirement already satisfied: traitlets>=4.2 in /usr/local/lib/python3.6/dist-packages (from nbconvert->hyperas) (4.3.2)\n",
            "Requirement already satisfied: defusedxml in /usr/local/lib/python3.6/dist-packages (from nbconvert->hyperas) (0.6.0)\n",
            "Requirement already satisfied: jupyter-core in /usr/local/lib/python3.6/dist-packages (from nbconvert->hyperas) (4.4.0)\n",
            "Requirement already satisfied: ipython-genutils in /usr/local/lib/python3.6/dist-packages (from nbformat->hyperas) (0.2.0)\n",
            "Requirement already satisfied: jsonschema!=2.5.0,>=2.4 in /usr/local/lib/python3.6/dist-packages (from nbformat->hyperas) (2.6.0)\n",
            "Requirement already satisfied: tornado>=4 in /usr/local/lib/python3.6/dist-packages (from notebook->jupyter->hyperas) (4.5.3)\n",
            "Requirement already satisfied: jupyter-client in /usr/local/lib/python3.6/dist-packages (from notebook->jupyter->hyperas) (5.2.4)\n",
            "Requirement already satisfied: terminado>=0.3.3; sys_platform != \"win32\" in /usr/local/lib/python3.6/dist-packages (from notebook->jupyter->hyperas) (0.8.2)\n",
            "Requirement already satisfied: ipython>=4.0.0 in /usr/local/lib/python3.6/dist-packages (from ipykernel->jupyter->hyperas) (5.5.0)\n",
            "Collecting prompt-toolkit<2.1.0,>=2.0.0 (from jupyter-console->jupyter->hyperas)\n",
            "\u001b[?25l  Downloading https://files.pythonhosted.org/packages/f7/a7/9b1dd14ef45345f186ef69d175bdd2491c40ab1dfa4b2b3e4352df719ed7/prompt_toolkit-2.0.9-py3-none-any.whl (337kB)\n",
            "\u001b[K     |████████████████████████████████| 337kB 7.5MB/s \n",
            "\u001b[?25hRequirement already satisfied: widgetsnbextension~=3.4.0 in /usr/local/lib/python3.6/dist-packages (from ipywidgets->jupyter->hyperas) (3.4.2)\n",
            "Requirement already satisfied: decorator>=4.3.0 in /usr/local/lib/python3.6/dist-packages (from networkx->hyperopt->hyperas) (4.4.0)\n",
            "Requirement already satisfied: webencodings in /usr/local/lib/python3.6/dist-packages (from bleach->nbconvert->hyperas) (0.5.1)\n",
            "Requirement already satisfied: MarkupSafe>=0.23 in /usr/local/lib/python3.6/dist-packages (from jinja2>=2.4->nbconvert->hyperas) (1.1.1)\n",
            "Requirement already satisfied: python-dateutil>=2.1 in /usr/local/lib/python3.6/dist-packages (from jupyter-client->notebook->jupyter->hyperas) (2.5.3)\n",
            "Requirement already satisfied: pyzmq>=13 in /usr/local/lib/python3.6/dist-packages (from jupyter-client->notebook->jupyter->hyperas) (17.0.0)\n",
            "Requirement already satisfied: ptyprocess; os_name != \"nt\" in /usr/local/lib/python3.6/dist-packages (from terminado>=0.3.3; sys_platform != \"win32\"->notebook->jupyter->hyperas) (0.6.0)\n",
            "Requirement already satisfied: pexpect; sys_platform != \"win32\" in /usr/local/lib/python3.6/dist-packages (from ipython>=4.0.0->ipykernel->jupyter->hyperas) (4.7.0)\n",
            "Requirement already satisfied: setuptools>=18.5 in /usr/local/lib/python3.6/dist-packages (from ipython>=4.0.0->ipykernel->jupyter->hyperas) (41.0.1)\n",
            "Requirement already satisfied: simplegeneric>0.8 in /usr/local/lib/python3.6/dist-packages (from ipython>=4.0.0->ipykernel->jupyter->hyperas) (0.8.1)\n",
            "Requirement already satisfied: pickleshare in /usr/local/lib/python3.6/dist-packages (from ipython>=4.0.0->ipykernel->jupyter->hyperas) (0.7.5)\n",
            "Requirement already satisfied: wcwidth in /usr/local/lib/python3.6/dist-packages (from prompt-toolkit<2.1.0,>=2.0.0->jupyter-console->jupyter->hyperas) (0.1.7)\n",
            "\u001b[31mERROR: ipython 5.5.0 has requirement prompt-toolkit<2.0.0,>=1.0.4, but you'll have prompt-toolkit 2.0.9 which is incompatible.\u001b[0m\n",
            "Installing collected packages: hyperas, prompt-toolkit\n",
            "  Found existing installation: prompt-toolkit 1.0.16\n",
            "    Uninstalling prompt-toolkit-1.0.16:\n",
            "      Successfully uninstalled prompt-toolkit-1.0.16\n",
            "Successfully installed hyperas-0.4.1 prompt-toolkit-2.0.9\n"
          ],
          "name": "stdout"
        },
        {
          "output_type": "display_data",
          "data": {
            "application/vnd.colab-display-data+json": {
              "pip_warning": {
                "packages": [
                  "prompt_toolkit"
                ]
              }
            }
          },
          "metadata": {
            "tags": []
          }
        },
        {
          "output_type": "stream",
          "text": [
            "Requirement already satisfied: hyperopt in /usr/local/lib/python3.6/dist-packages (0.1.2)\n",
            "Requirement already satisfied: numpy in /usr/local/lib/python3.6/dist-packages (from hyperopt) (1.16.4)\n",
            "Requirement already satisfied: networkx in /usr/local/lib/python3.6/dist-packages (from hyperopt) (2.3)\n",
            "Requirement already satisfied: scipy in /usr/local/lib/python3.6/dist-packages (from hyperopt) (1.3.0)\n",
            "Requirement already satisfied: six in /usr/local/lib/python3.6/dist-packages (from hyperopt) (1.12.0)\n",
            "Requirement already satisfied: future in /usr/local/lib/python3.6/dist-packages (from hyperopt) (0.16.0)\n",
            "Requirement already satisfied: pymongo in /usr/local/lib/python3.6/dist-packages (from hyperopt) (3.8.0)\n",
            "Requirement already satisfied: tqdm in /usr/local/lib/python3.6/dist-packages (from hyperopt) (4.28.1)\n",
            "Requirement already satisfied: decorator>=4.3.0 in /usr/local/lib/python3.6/dist-packages (from networkx->hyperopt) (4.4.0)\n"
          ],
          "name": "stdout"
        }
      ]
    },
    {
      "cell_type": "code",
      "metadata": {
        "id": "6bgdZWLMuOQd",
        "colab_type": "code",
        "colab": {
          "base_uri": "https://localhost:8080/",
          "height": 34
        },
        "outputId": "10a5c51a-b4bb-4cf0-916c-f372dfb644ca"
      },
      "source": [
        "import hyperas\n",
        "from hyperopt import Trials, STATUS_OK, tpe, rand\n",
        "from hyperas import optim\n",
        "from hyperas.distributions import choice, uniform"
      ],
      "execution_count": 4,
      "outputs": [
        {
          "output_type": "stream",
          "text": [
            "Using TensorFlow backend.\n"
          ],
          "name": "stderr"
        }
      ]
    },
    {
      "cell_type": "code",
      "metadata": {
        "id": "rFJCNjJMn2RV",
        "colab_type": "code",
        "colab": {
          "resources": {
            "http://localhost:8080/nbextensions/google.colab/files.js": {
              "data": "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",
              "ok": true,
              "headers": [
                [
                  "content-type",
                  "application/javascript"
                ]
              ],
              "status": 200,
              "status_text": ""
            }
          },
          "base_uri": "https://localhost:8080/",
          "height": 71
        },
        "outputId": "51c87cc8-e310-4b9b-b9b3-f5bad215532e"
      },
      "source": [
        "%%time\n",
        "from google.colab import files\n",
        "uploaded = files.upload()\n",
        "!ls -l"
      ],
      "execution_count": 0,
      "outputs": [
        {
          "output_type": "display_data",
          "data": {
            "text/html": [
              "\n",
              "     <input type=\"file\" id=\"files-12c81346-dda1-4d02-bf36-70783dd77f0b\" name=\"files[]\" multiple disabled />\n",
              "     <output id=\"result-12c81346-dda1-4d02-bf36-70783dd77f0b\">\n",
              "      Upload widget is only available when the cell has been executed in the\n",
              "      current browser session. Please rerun this cell to enable.\n",
              "      </output>\n",
              "      <script src=\"/nbextensions/google.colab/files.js\"></script> "
            ],
            "text/plain": [
              "<IPython.core.display.HTML object>"
            ]
          },
          "metadata": {
            "tags": []
          }
        },
        {
          "output_type": "stream",
          "text": [
            "Saving heatmap2.7z to heatmap2.7z\n"
          ],
          "name": "stdout"
        }
      ]
    },
    {
      "cell_type": "markdown",
      "metadata": {
        "id": "_EcIkdl8gZio",
        "colab_type": "text"
      },
      "source": [
        "## 7z を解凍する場合"
      ]
    },
    {
      "cell_type": "code",
      "metadata": {
        "id": "SBsRqV8HgCTS",
        "colab_type": "code",
        "colab": {}
      },
      "source": [
        "start = time.time()\n",
        "\n",
        "# .7z形式を扱う場合\n",
        "!apt-get -y install p7zip-full\n",
        "\n",
        "# ファイルの解凍等\n",
        "!7z x heatmap2.7z\n",
        "\n",
        "process_time = time.time() - start\n",
        "\n",
        "print(process_time)"
      ],
      "execution_count": 0,
      "outputs": []
    },
    {
      "cell_type": "markdown",
      "metadata": {
        "id": "kaUZa814geuC",
        "colab_type": "text"
      },
      "source": [
        "## Zip を解凍する場合"
      ]
    },
    {
      "cell_type": "code",
      "metadata": {
        "id": "qrQpJ7KaMzDi",
        "colab_type": "code",
        "colab": {}
      },
      "source": [
        "start = time.time()\n",
        "!unzip  -q heatmap2.zip\n",
        "process_time = time.time() - start\n",
        "\n",
        "print(process_time)\n"
      ],
      "execution_count": 0,
      "outputs": []
    },
    {
      "cell_type": "markdown",
      "metadata": {
        "id": "8Uac0uVJu_0Q",
        "colab_type": "text"
      },
      "source": [
        "# Keras with Hyper parameter optimization"
      ]
    },
    {
      "cell_type": "code",
      "metadata": {
        "id": "XEU5tITdzv1_",
        "colab_type": "code",
        "outputId": "103123bd-1881-4b61-e27e-130b45bee17d",
        "colab": {
          "base_uri": "https://localhost:8080/",
          "height": 68
        }
      },
      "source": [
        "%%time\n",
        "\n",
        "\n",
        "import os\n",
        "os.environ['KMP_DUPLICATE_LIB_OK'] = 'True'\n",
        "\n",
        "import pandas as pd\n",
        "import numpy as np\n",
        "import matplotlib.pyplot as plt\n",
        "from keras.datasets import cifar100\n",
        "from keras.utils.np_utils import to_categorical\n",
        "from keras.models import Sequential\n",
        "from keras.layers import Dense, Conv2D, MaxPool2D, Flatten, BatchNormalization, Dropout\n",
        "import keras.backend as K\n",
        "import keras\n",
        "from keras.utils import np_utils\n",
        "from keras.layers.convolutional import Conv2D, MaxPooling2D\n",
        "from keras.models import Sequential\n",
        "from keras.layers.core import Dense, Dropout, Activation, Flatten\n",
        "from keras.preprocessing.image import array_to_img, img_to_array, load_img\n",
        "import numpy as np\n",
        "import pandas as pd\n",
        "from sklearn.model_selection import train_test_split\n",
        "import matplotlib.pyplot as plt\n",
        "import glob, os, shutil, cv2, sys,re\n",
        "from sklearn.model_selection import train_test_split\n",
        "from PIL import Image\n",
        "import glob, cv2\n",
        "from keras.preprocessing.image import load_img\n",
        "from keras.preprocessing.image import load_img, img_to_array\n",
        "from keras.models import Sequential, model_from_json\n",
        "from keras.callbacks import EarlyStopping, TensorBoard, ModelCheckpoint\n",
        "import tensorflow as tf\n",
        "import random\n",
        "\n",
        "# --- 拾った関数 ----\n",
        "def list_pictures(directory, ext='jpg|jpeg|bmp|png|ppm'):\n",
        "    return [os.path.join(root, f)\n",
        "            for root, _, files in os.walk(directory) for f in files\n",
        "            if re.match(r'([\\w]+\\.(?:' + ext + '))', f.lower())]\n",
        "\n",
        "# --- フォルダリストを取得 ---\n",
        "# p_=  '/content/heatmap2/Beginners/*/*/*/'\n",
        "# p_2 = '/content/heatmap2/Cyclists/*/*/*/'\n",
        "\n",
        "p_=  '/content/heatmap2/Beginners/KOIKE/*/*/'\n",
        "p_2 =  '/content/heatmap2/Beginners/KUREMATSU/*/*/'\n",
        "p_3 =  '/content/heatmap2/Beginners/KURODA/*/*/'\n",
        "\n",
        "p_4 = '/content/heatmap2/Cyclists/MIZA/*/*/'\n",
        "p_5 = '/content/heatmap2/Cyclists/SAKOI/*/*/'\n",
        "p_6 = '/content/heatmap2/Cyclists/YAMANAKA/*/*/'\n",
        "\n",
        "sys.path.append(p_)\n",
        "\n",
        "# ---- 保存用配列を確保 ---\n",
        "folders = [p_, p_2,p_3,  p_4,  p_5, p_6]\n",
        "X = []\n",
        "Y = []\n",
        "image = []\n",
        "files_name = []\n",
        "image_size = 100#int(100/2)\n",
        "\n",
        "# CV2で読み込んだほうが速いそうなので.\n",
        "# Before: 2m30sec, After: 1min 41sec.\n",
        "for index, folder in enumerate(folders):\n",
        "    files_name = glob.glob(folder+\"*.png\")\n",
        "    random.shuffle(files_name)\n",
        "    for i, file in enumerate(files_name):\n",
        "        image = cv2.imread(file, cv2.IMREAD_GRAYSCALE)\n",
        "        image = cv2.resize(image,(image_size, image_size))\n",
        "        X.append(image)\n",
        "        if index <3:\n",
        "          class_index = 0\n",
        "          Y.append(class_index)\n",
        "        else:\n",
        "          class_index = 1\n",
        "          Y.append(class_index)\n",
        "#         print(file)\n",
        "        if i >=20000:\n",
        "          break;\n",
        "\n",
        "X = np.array(X)\n",
        "Y = np.array(Y)\n",
        "\n",
        "print(\"X: {0}, Y: {1}\".format(X.shape,Y.shape))"
      ],
      "execution_count": 0,
      "outputs": [
        {
          "output_type": "stream",
          "text": [
            "X: (90531, 100, 100), Y: (90531,)\n",
            "CPU times: user 14.1 s, sys: 1.96 s, total: 16.1 s\n",
            "Wall time: 16.1 s\n"
          ],
          "name": "stdout"
        }
      ]
    },
    {
      "cell_type": "code",
      "metadata": {
        "id": "pZTikDsqu_Zo",
        "colab_type": "code",
        "colab": {}
      },
      "source": [
        "def create_model(x_train, y_train, x_test, y_test):\n",
        "  \n",
        "    model = Sequential()\n",
        "    \n",
        "    model.add(Conv2D({{choice([16, 32, 48, 64, 128])}},\n",
        "              {{choice([2, 3, 5])}}, {{choice([2, 3, 5])}},\n",
        "    padding='same', \n",
        "    input_shape=(image_size,image_size,1)))\n",
        "    \n",
        "    model.add(Activation('relu'))\n",
        "              \n",
        "    if {{choice(['one','two'])}} == 'two':\n",
        "        model.add(Conv2D({{choice([16, 32, 48, 64, 128])}},\n",
        "                  {{choice([2, 3, 5])}}, {{choice([2, 3, 5])}},\n",
        "        padding='same'))\n",
        "        model.add(Activation('relu'))\n",
        "              \n",
        "    if {{choice(['two','three'])}} == 'three':\n",
        "        model.add(Conv2D({{choice([16, 32, 48, 64, 128])}},\n",
        "                  {{choice([2, 3, 5])}}, {{choice([2, 3, 5])}},\n",
        "        padding='same'))\n",
        "        model.add(Activation('relu'))\n",
        "              \n",
        "    if {{choice(['three','four'])}} == 'four':\n",
        "        model.add(Conv2D({{choice([16, 32, 48, 64, 128])}},\n",
        "                  {{choice([2, 3, 5])}}, {{choice([2, 3, 5])}},\n",
        "        padding='same'))\n",
        "        model.add(Activation('relu'))\n",
        "              \n",
        "    if {{choice(['four','five'])}} == 'five':\n",
        "        model.add(Conv2D({{choice([16, 32, 48, 64, 128])}},\n",
        "                  {{choice([2, 3, 5])}}, {{choice([2, 3, 5])}},\n",
        "        padding='same'))\n",
        "        model.add(Activation('relu'))\n",
        "              \n",
        "    if {{choice(['five','six'])}} == 'six':\n",
        "        model.add(Conv2D({{choice([16, 32, 48, 64, 128])}},\n",
        "                  {{choice([2, 3, 5])}}, {{choice([2, 3, 5])}},\n",
        "        padding='same'))\n",
        "        model.add(Activation('relu'))\n",
        "              \n",
        "    model.add(Flatten())\n",
        "    model.add(Dense(512))\n",
        "    model.add(Activation('relu'))\n",
        "    model.add(Dropout({{uniform(0, 1)}}))\n",
        "              \n",
        "\n",
        "    if {{choice(['one', 'two'])}} == 'two':\n",
        "        model.add(Dense({{choice([128, 256, 512, 1024])}}))\n",
        "        model.add(Activation({{choice(['relu', 'sigmoid', 'linear'])}}))\n",
        "        model.add(Dropout({{uniform(0, 1)}}))\n",
        "              \n",
        "    if {{choice(['two', 'three'])}} == 'three':\n",
        "        model.add(Dense({{choice([128, 256, 512, 1024])}}))\n",
        "        model.add(Activation({{choice(['relu', 'sigmoid', 'linear'])}}))\n",
        "        model.add(Dropout({{uniform(0, 1)}}))\n",
        "              \n",
        "    if {{choice(['three', 'four'])}} == 'four':\n",
        "        model.add(Dense({{choice([128, 256, 512, 1024])}}))\n",
        "        model.add(Activation({{choice(['relu', 'sigmoid', 'linear'])}}))\n",
        "        model.add(Dropout({{uniform(0, 1)}}))\n",
        "              \n",
        "    if {{choice(['four', 'five'])}} == 'five':\n",
        "        model.add(Dense({{choice([128, 256, 512, 1024])}}))\n",
        "        model.add(Activation({{choice(['relu', 'sigmoid', 'linear'])}}))\n",
        "        model.add(Dropout({{uniform(0, 1)}}))\n",
        "              \n",
        "    if {{choice(['five', 'six'])}} == 'six':\n",
        "        model.add(Dense({{choice([128, 256, 512, 1024])}}))\n",
        "        model.add(Activation({{choice(['relu', 'sigmoid', 'linear'])}}))\n",
        "        model.add(Dropout({{uniform(0, 1)}}))\n",
        "\n",
        "    model.add(Dense(2))\n",
        "    model.add(Activation('softmax'))\n",
        "\n",
        "    model.compile(loss='categorical_crossentropy', metrics=['accuracy'],\n",
        "                  optimizer={{choice(['rmsprop', 'adam', 'sgd'])}})\n",
        "\n",
        "    result = model.fit(x_train, y_train,\n",
        "              batch_size={{choice([128, 256, 512, 1024])}},\n",
        "              epochs=2,\n",
        "              verbose=2,\n",
        "              validation_split=0.2)\n",
        "\n",
        "    validation_acc = np.amax(result.history['val_acc']) \n",
        "    print('Best validation acc of epoch:', validation_acc)\n",
        "\n",
        "    return {'loss': -validation_acc, 'status': STATUS_OK, 'model': model}\n",
        "              \n",
        "              \n",
        "def data():\n",
        "\n",
        "    # --- 訓練データとテストデータに分ける ----\n",
        "    X2 = X.astype('float32')\n",
        "    X3 = X2 / 255.0\n",
        "    Y2 = np_utils.to_categorical(Y, 2)\n",
        "\n",
        "    # データサイズが熟練者か初心者で偏っている場合はどう判断すべきか\n",
        "    x_train, x_test, y_train, y_test = train_test_split(X3, Y2, test_size=0.2, random_state=46)\n",
        "    x_train = x_train.reshape(-1, image_size, image_size, 1)\n",
        "    x_test = x_test.reshape(-1, image_size, image_size, 1)\n",
        "\n",
        "\n",
        "    return x_train, y_train, x_test, y_test"
      ],
      "execution_count": 0,
      "outputs": []
    },
    {
      "cell_type": "code",
      "metadata": {
        "id": "t9BHcmxou6ym",
        "colab_type": "code",
        "outputId": "7472731f-d309-405e-a01a-96055838fda8",
        "colab": {
          "resources": {
            "http://localhost:8080/nbextensions/google.colab/files.js": {
              "data": "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",
              "ok": true,
              "headers": [
                [
                  "content-type",
                  "application/javascript"
                ]
              ],
              "status": 200,
              "status_text": ""
            }
          },
          "base_uri": "https://localhost:8080/",
          "height": 54
        }
      },
      "source": [
        "best_run, best_model = optim.minimize(model=create_model,data=data, algo=tpe.suggest, max_evals=5,trials=Trials(),\n",
        "                                      notebook_name='Test(Lab–2)')\n",
        "\n",
        "X_train, Y_train, X_test, Y_test = data()\n",
        "print(\"Evalutation of best performing model:\")\n",
        "print(best_model.evaluate(X_test, Y_test))\n",
        "\n",
        "print(\"Best performing model chosen hyper-parameters:\")\n",
        "print(best_run)\n",
        "    \n",
        "# ソート\n",
        "print('--- sorted ---')\n",
        "sorted_best_run = sorted(best_run.items(), key=lambda x : x[0])\n",
        "\n",
        "for i, k in sorted_best_run:\n",
        "  print(i + ' : ' + str(k))\n",
        "\n",
        "# 精度の履歴をプロット\n",
        "def plot_history(history):\n",
        "    print(history.history.keys())\n",
        "\n",
        "    plt.plot(history.history['acc'])\n",
        "    plt.plot(history.history['val_acc'])\n",
        "    plt.title('model accuracy')\n",
        "    plt.xlabel('epoch')\n",
        "    plt.ylabel('accuracy')\n",
        "    plt.legend(['acc', 'val_acc'], loc='lower right')\n",
        "    plt.show()\n",
        "\n",
        "    # 損失の履歴をプロット\n",
        "    plt.plot(history.history['loss'])\n",
        "    plt.plot(history.history['val_loss'])\n",
        "    plt.title('model loss')\n",
        "    plt.xlabel('epoch')\n",
        "    plt.ylabel('loss')\n",
        "    plt.legend(['loss', 'val_loss'], loc='lower right')\n",
        "    plt.show()\n",
        "\n",
        "# 学習履歴をプロット\n",
        "plt.show()\n",
        "plot_history(result)\n",
        "print(max(result.history['acc']))\n",
        "print(max(result.history['val_acc']))"
      ],
      "execution_count": 0,
      "outputs": [
        {
          "output_type": "stream",
          "text": [
            "/content\n"
          ],
          "name": "stdout"
        },
        {
          "output_type": "display_data",
          "data": {
            "text/html": [
              "\n",
              "     <input type=\"file\" id=\"files-662cb50d-bff4-46a5-8dcf-68acd7acd04c\" name=\"files[]\" multiple disabled />\n",
              "     <output id=\"result-662cb50d-bff4-46a5-8dcf-68acd7acd04c\">\n",
              "      Upload widget is only available when the cell has been executed in the\n",
              "      current browser session. Please rerun this cell to enable.\n",
              "      </output>\n",
              "      <script src=\"/nbextensions/google.colab/files.js\"></script> "
            ],
            "text/plain": [
              "<IPython.core.display.HTML object>"
            ]
          },
          "metadata": {
            "tags": []
          }
        }
      ]
    },
    {
      "cell_type": "markdown",
      "metadata": {
        "id": "vuVGiXnVJAXF",
        "colab_type": "text"
      },
      "source": [
        "# Keras 実装開始\n",
        "---\n",
        "\n"
      ]
    },
    {
      "cell_type": "code",
      "metadata": {
        "colab_type": "code",
        "id": "xJK2tMCLpppL",
        "outputId": "6c479500-c82c-4486-d4c1-88fcba9cf60b",
        "colab": {
          "base_uri": "https://localhost:8080/",
          "height": 85
        }
      },
      "source": [
        "%%time\n",
        "import pandas as pd\n",
        "import numpy as np\n",
        "import matplotlib.pyplot as plt\n",
        "from keras.datasets import cifar100\n",
        "from keras.utils.np_utils import to_categorical\n",
        "from keras.models import Sequential\n",
        "from keras.layers import Dense, Conv2D, MaxPool2D, Flatten, BatchNormalization, Dropout\n",
        "import keras.backend as K\n",
        "import keras\n",
        "from keras.utils import np_utils\n",
        "from keras.layers.convolutional import Conv2D, MaxPooling2D\n",
        "from keras.models import Sequential\n",
        "from keras.layers.core import Dense, Dropout, Activation, Flatten\n",
        "from keras.preprocessing.image import array_to_img, img_to_array, load_img\n",
        "import numpy as np\n",
        "import pandas as pd\n",
        "from sklearn.model_selection import train_test_split\n",
        "import matplotlib.pyplot as plt\n",
        "import glob, os, shutil, cv2, sys,re\n",
        "from sklearn.model_selection import train_test_split\n",
        "from PIL import Image\n",
        "import glob, cv2\n",
        "from keras.preprocessing.image import load_img\n",
        "from keras.preprocessing.image import load_img, img_to_array\n",
        "from keras.models import Sequential, model_from_json\n",
        "from keras.callbacks import EarlyStopping, TensorBoard, ModelCheckpoint\n",
        "import tensorflow as tf\n",
        "import random\n",
        "\n",
        "# --- 拾った関数 ----\n",
        "def list_pictures(directory, ext='jpg|jpeg|bmp|png|ppm'):\n",
        "    return [os.path.join(root, f)\n",
        "            for root, _, files in os.walk(directory) for f in files\n",
        "            if re.match(r'([\\w]+\\.(?:' + ext + '))', f.lower())]\n",
        "\n",
        "# --- フォルダリストを取得 ---\n",
        "# p_=  '/content/heatmap2/Beginners/*/*/*/'\n",
        "# p_2 = '/content/heatmap2/Cyclists/*/*/*/'\n",
        "\n",
        "p_=  '/content/heatmap2/Beginners/KOIKE/*/*/'\n",
        "p_2 =  '/content/heatmap2/Beginners/KUREMATSU/*/*/'\n",
        "p_3 =  '/content/heatmap2/Beginners/KURODA/*/*/'\n",
        "\n",
        "p_4 = '/content/heatmap2/Cyclists/MIZA/*/*/'\n",
        "p_5 = '/content/heatmap2/Cyclists/SAKOI/*/*/'\n",
        "p_6 = '/content/heatmap2/Cyclists/YAMANAKA/*/*/'\n",
        "\n",
        "sys.path.append(p_)\n",
        "\n",
        "# ---- 保存用配列を確保 ---\n",
        "folders = [p_, p_2,p_3,  p_4,  p_5, p_6]\n",
        "X = []\n",
        "Y = []\n",
        "image_size = 100#int(100/2)\n",
        "\n",
        "# CV2で読み込んだほうが速いそうなので.\n",
        "# Before: 2m30sec, After: 1min 41sec.\n",
        "for index, folder in enumerate(folders):\n",
        "    files = glob.glob(folder+\"*.png\")\n",
        "    random.shuffle(files)\n",
        "    for i, file in enumerate(files):\n",
        "        image = cv2.imread(file, cv2.IMREAD_GRAYSCALE)\n",
        "        image = cv2.resize(image,(image_size, image_size))\n",
        "        X.append(image)\n",
        "        if index <3:\n",
        "          class_index = 0\n",
        "          Y.append(class_index)\n",
        "        else:\n",
        "          class_index = 1\n",
        "          Y.append(class_index)\n",
        "#         print(file)\n",
        "        if i >=20000:\n",
        "          break;\n",
        "\n",
        "X = np.array(X)\n",
        "Y = np.array(Y)\n",
        "\n",
        "print(\"X: {0}, Y: {1}\".format(X.shape,Y.shape))\n",
        "\n",
        "# --- 適当に画像化 ----\n",
        "# 勝手に8bitに正規化されるので,必ず引数をつけること.\n",
        "# http://hikuichi.hatenablog.com/entry/2015/12/26/225623\n",
        "# plt.imshow(X[28,:,:], 'gray', vmin = 0, vmax = 255)\n",
        "\n",
        "# --- 訓練データとテストデータに分ける ----\n",
        "X = X.astype('float32')\n",
        "X = X / 255.0\n",
        "Y = np_utils.to_categorical(Y, 2)\n",
        "\n",
        "# データサイズが熟練者か初心者で偏っている場合はどう判断すべきか\n",
        "X_train, X_test, y_train, y_test = train_test_split(X, Y, test_size=0.2, random_state=46)\n",
        "X_train = X_train.reshape(-1, image_size, image_size, 1)\n",
        "X_test = X_test.reshape(-1, image_size, image_size, 1)"
      ],
      "execution_count": 0,
      "outputs": [
        {
          "output_type": "stream",
          "text": [
            "Using TensorFlow backend.\n"
          ],
          "name": "stderr"
        },
        {
          "output_type": "stream",
          "text": [
            "X: (90531, 100, 100), Y: (90531,)\n",
            "CPU times: user 22.1 s, sys: 10.9 s, total: 33 s\n",
            "Wall time: 1min 36s\n"
          ],
          "name": "stdout"
        }
      ]
    },
    {
      "cell_type": "code",
      "metadata": {
        "id": "jjNlWR9n3tPX",
        "colab_type": "code",
        "colab": {}
      },
      "source": [
        "from keras.callbacks import TensorBoard\n",
        "from tensorboard.plugins.pr_curve import summary as pr_summary\n",
        "\n",
        "# Check complete example in:\n",
        "# https://github.com/akionakamura/pr-tensorboard-keras-example\n",
        "class PRTensorBoard(TensorBoard):\n",
        "    def __init__(self, *args, **kwargs):\n",
        "        # One extra argument to indicate whether or not to use the PR curve summary.\n",
        "        self.pr_curve = kwargs.pop('pr_curve', True)\n",
        "        super(PRTensorBoard, self).__init__(*args, **kwargs)\n",
        "\n",
        "        global tf\n",
        "        import tensorflow as tf\n",
        "\n",
        "    def set_model(self, model):\n",
        "        super(PRTensorBoard, self).set_model(model)\n",
        "\n",
        "        if self.pr_curve:\n",
        "            # Get the prediction and label tensor placeholders.\n",
        "            predictions = self.model._feed_outputs[0]\n",
        "            labels = tf.cast(self.model._feed_targets[0], tf.bool)\n",
        "            # Create the PR summary OP.\n",
        "            self.pr_summary = pr_summary.op(tag='pr_curve',\n",
        "                                            predictions=predictions,\n",
        "                                            labels=labels,\n",
        "                                            display_name='Precision-Recall Curve')\n",
        "\n",
        "    def on_epoch_end(self, epoch, logs=None):\n",
        "        super(PRTensorBoard, self).on_epoch_end(epoch, logs)\n",
        "\n",
        "        if self.pr_curve and self.validation_data:\n",
        "            # Get the tensors again.\n",
        "            tensors = self.model._feed_targets + self.model._feed_outputs\n",
        "            # Predict the output.\n",
        "            predictions = self.model.predict(self.validation_data[:-2])\n",
        "            # Build the dictionary mapping the tensor to the data.\n",
        "            val_data = [self.validation_data[-2], predictions]\n",
        "            feed_dict = dict(zip(tensors, val_data))\n",
        "            # Run and add summary.\n",
        "            result = self.sess.run([self.pr_summary], feed_dict=feed_dict)\n",
        "            self.writer.add_summary(result[0], epoch)\n",
        "        self.writer.flush()"
      ],
      "execution_count": 0,
      "outputs": []
    },
    {
      "cell_type": "code",
      "metadata": {
        "colab_type": "code",
        "id": "i87CWlFGoqlm",
        "scrolled": false,
        "outputId": "fb8995cb-3ccf-4495-ab07-3268310c27f5",
        "colab": {
          "base_uri": "https://localhost:8080/",
          "height": 3973
        }
      },
      "source": [
        "# error処置\n",
        "%%time\n",
        "import os\n",
        "os.environ['KMP_DUPLICATE_LIB_OK'] = 'True'\n",
        "\n",
        "K.clear_session()\n",
        "# モデル構築開始\n",
        "model = Sequential()\n",
        "\n",
        "model.add(Conv2D(32, (5, 5),padding='same', input_shape=(image_size,image_size,1), activation='relu'))\n",
        "model.add(Conv2D(32, (5, 5), padding='same', activation='relu'))\n",
        "model.add(MaxPool2D(pool_size=(3, 3)))\n",
        "model.add(Dropout(0.25))\n",
        "\n",
        "model.add(Conv2D(64, (5, 5), padding='same', activation='relu'))\n",
        "model.add(Conv2D(64, (5, 5), activation='relu'))\n",
        "model.add(MaxPool2D(pool_size=(3, 3)))\n",
        "model.add(Dropout(0.25))\n",
        "\n",
        "\n",
        "model.add(Flatten())\n",
        "model.add(Dense(512, activation='relu'))\n",
        "model.add(Dense(512, activation='relu'))\n",
        "model.add(Dense(512, activation='relu'))\n",
        "model.add(Dropout(0.5))\n",
        "model.add(Dense(512, activation='relu'))\n",
        "model.add(Dense(512, activation='relu'))\n",
        "model.add(Dense(512, activation='relu'))\n",
        "model.add(Dropout(0.5))\n",
        "model.add(Dense(2, activation='softmax'))\n",
        "\n",
        "# compile: どのような学習処理を行なうかを設定\n",
        "from keras.optimizers import Adam\n",
        "\n",
        "model.compile(loss='categorical_crossentropy',#損失関数\n",
        "              optimizer=Adam(lr=1e-3),#最適化手法\n",
        "              metrics=['accuracy'])\n",
        "\n",
        "model.summary()\n",
        "\n",
        "\n",
        "# ★ローカル環境で実行してください.\n",
        "# import keras\n",
        "# import pydotplus\n",
        "# from tensorflow.python.keras.utils.vis_utils import plot_model\n",
        "# plot_model(model, to_file='model.jpg',show_shapes=True,show_layer_names=True)\n",
        "# plt.imshow(load_img('model.jpg'))\n",
        "\n",
        "# Precision & Recall curve: https://qiita.com/cvusk/items/e3ca93f93a5921c1a772\n",
        "#tb_cb = keras.callbacks.TensorBoard(log_dir=\"tflog/\", histogram_freq=1, write_graph=True)\n",
        "es_cb = keras.callbacks.EarlyStopping(monitor='val_loss', patience=15, verbose=1, mode='auto')\n",
        "history = model.fit(X_train, y_train, batch_size=512, epochs=200, validation_split=0.2, shuffle=True, verbose=1, callbacks=[es_cb])\n",
        "\n",
        "\n",
        "# 精度の履歴をプロット\n",
        "def plot_history(history):\n",
        "    print(history.history.keys())\n",
        "\n",
        "    plt.plot(history.history['acc'])\n",
        "    plt.plot(history.history['val_acc'])\n",
        "    plt.title('model accuracy')\n",
        "    plt.xlabel('epoch')\n",
        "    plt.ylabel('accuracy')\n",
        "    plt.legend(['acc', 'val_acc'], loc='lower right')\n",
        "    plt.show()\n",
        "\n",
        "    # 損失の履歴をプロット\n",
        "    plt.plot(history.history['loss'])\n",
        "    plt.plot(history.history['val_loss'])\n",
        "    plt.title('model loss')\n",
        "    plt.xlabel('epoch')\n",
        "    plt.ylabel('loss')\n",
        "    plt.legend(['loss', 'val_loss'], loc='lower right')\n",
        "    plt.show()\n",
        "\n",
        "# 学習履歴をプロット\n",
        "plt.show()\n",
        "plot_history(history)\n",
        "print(max(history.history['acc']))\n",
        "print(max(history.history['val_acc']))\n"
      ],
      "execution_count": 0,
      "outputs": [
        {
          "output_type": "stream",
          "text": [
            "_________________________________________________________________\n",
            "Layer (type)                 Output Shape              Param #   \n",
            "=================================================================\n",
            "conv2d_1 (Conv2D)            (None, 100, 100, 32)      832       \n",
            "_________________________________________________________________\n",
            "conv2d_2 (Conv2D)            (None, 100, 100, 32)      25632     \n",
            "_________________________________________________________________\n",
            "max_pooling2d_1 (MaxPooling2 (None, 33, 33, 32)        0         \n",
            "_________________________________________________________________\n",
            "dropout_1 (Dropout)          (None, 33, 33, 32)        0         \n",
            "_________________________________________________________________\n",
            "conv2d_3 (Conv2D)            (None, 33, 33, 64)        51264     \n",
            "_________________________________________________________________\n",
            "conv2d_4 (Conv2D)            (None, 29, 29, 64)        102464    \n",
            "_________________________________________________________________\n",
            "max_pooling2d_2 (MaxPooling2 (None, 9, 9, 64)          0         \n",
            "_________________________________________________________________\n",
            "dropout_2 (Dropout)          (None, 9, 9, 64)          0         \n",
            "_________________________________________________________________\n",
            "flatten_1 (Flatten)          (None, 5184)              0         \n",
            "_________________________________________________________________\n",
            "dense_1 (Dense)              (None, 512)               2654720   \n",
            "_________________________________________________________________\n",
            "dense_2 (Dense)              (None, 512)               262656    \n",
            "_________________________________________________________________\n",
            "dense_3 (Dense)              (None, 512)               262656    \n",
            "_________________________________________________________________\n",
            "dropout_3 (Dropout)          (None, 512)               0         \n",
            "_________________________________________________________________\n",
            "dense_4 (Dense)              (None, 512)               262656    \n",
            "_________________________________________________________________\n",
            "dense_5 (Dense)              (None, 512)               262656    \n",
            "_________________________________________________________________\n",
            "dense_6 (Dense)              (None, 512)               262656    \n",
            "_________________________________________________________________\n",
            "dropout_4 (Dropout)          (None, 512)               0         \n",
            "_________________________________________________________________\n",
            "dense_7 (Dense)              (None, 2)                 1026      \n",
            "=================================================================\n",
            "Total params: 4,149,218\n",
            "Trainable params: 4,149,218\n",
            "Non-trainable params: 0\n",
            "_________________________________________________________________\n",
            "Train on 57939 samples, validate on 14485 samples\n",
            "Epoch 1/200\n",
            "57939/57939 [==============================] - 53s 906us/step - loss: 0.6334 - acc: 0.6392 - val_loss: 0.5069 - val_acc: 0.7622\n",
            "Epoch 2/200\n",
            "57939/57939 [==============================] - 51s 886us/step - loss: 0.3897 - acc: 0.8295 - val_loss: 0.2219 - val_acc: 0.9099\n",
            "Epoch 3/200\n",
            "57939/57939 [==============================] - 51s 887us/step - loss: 0.1761 - acc: 0.9268 - val_loss: 0.1245 - val_acc: 0.9477\n",
            "Epoch 4/200\n",
            "57939/57939 [==============================] - 51s 882us/step - loss: 0.1148 - acc: 0.9532 - val_loss: 0.0746 - val_acc: 0.9673\n",
            "Epoch 5/200\n",
            "57939/57939 [==============================] - 51s 880us/step - loss: 0.0868 - acc: 0.9639 - val_loss: 0.0602 - val_acc: 0.9752\n",
            "Epoch 6/200\n",
            "57939/57939 [==============================] - 51s 881us/step - loss: 0.0693 - acc: 0.9714 - val_loss: 0.0582 - val_acc: 0.9759\n",
            "Epoch 7/200\n",
            "57939/57939 [==============================] - 51s 878us/step - loss: 0.0623 - acc: 0.9734 - val_loss: 0.0540 - val_acc: 0.9769\n",
            "Epoch 8/200\n",
            "57939/57939 [==============================] - 51s 877us/step - loss: 0.0601 - acc: 0.9739 - val_loss: 0.0506 - val_acc: 0.9782\n",
            "Epoch 9/200\n",
            "57939/57939 [==============================] - 51s 876us/step - loss: 0.0546 - acc: 0.9760 - val_loss: 0.0481 - val_acc: 0.9778\n",
            "Epoch 10/200\n",
            "57939/57939 [==============================] - 51s 876us/step - loss: 0.0540 - acc: 0.9761 - val_loss: 0.0619 - val_acc: 0.9740\n",
            "Epoch 11/200\n",
            "57939/57939 [==============================] - 51s 876us/step - loss: 0.0557 - acc: 0.9761 - val_loss: 0.0519 - val_acc: 0.9772\n",
            "Epoch 12/200\n",
            "57939/57939 [==============================] - 51s 876us/step - loss: 0.0535 - acc: 0.9766 - val_loss: 0.0509 - val_acc: 0.9778\n",
            "Epoch 13/200\n",
            "57939/57939 [==============================] - 51s 876us/step - loss: 0.0519 - acc: 0.9768 - val_loss: 0.0485 - val_acc: 0.9782\n",
            "Epoch 14/200\n",
            "57939/57939 [==============================] - 51s 876us/step - loss: 0.0505 - acc: 0.9779 - val_loss: 0.0505 - val_acc: 0.9776\n",
            "Epoch 15/200\n",
            "57939/57939 [==============================] - 51s 876us/step - loss: 0.0533 - acc: 0.9769 - val_loss: 0.0490 - val_acc: 0.9781\n",
            "Epoch 16/200\n",
            "57939/57939 [==============================] - 51s 874us/step - loss: 0.0510 - acc: 0.9780 - val_loss: 0.0531 - val_acc: 0.9779\n",
            "Epoch 17/200\n",
            "57939/57939 [==============================] - 51s 874us/step - loss: 0.0573 - acc: 0.9753 - val_loss: 0.0484 - val_acc: 0.9781\n",
            "Epoch 18/200\n",
            "57939/57939 [==============================] - 51s 874us/step - loss: 0.0502 - acc: 0.9782 - val_loss: 0.0468 - val_acc: 0.9789\n",
            "Epoch 19/200\n",
            "57939/57939 [==============================] - 51s 873us/step - loss: 0.0498 - acc: 0.9782 - val_loss: 0.0483 - val_acc: 0.9783\n",
            "Epoch 20/200\n",
            "57939/57939 [==============================] - 51s 872us/step - loss: 0.0495 - acc: 0.9779 - val_loss: 0.0462 - val_acc: 0.9793\n",
            "Epoch 21/200\n",
            "57939/57939 [==============================] - 51s 873us/step - loss: 0.0499 - acc: 0.9780 - val_loss: 0.0465 - val_acc: 0.9789\n",
            "Epoch 22/200\n",
            "57939/57939 [==============================] - 51s 873us/step - loss: 0.0495 - acc: 0.9780 - val_loss: 0.0506 - val_acc: 0.9774\n",
            "Epoch 23/200\n",
            "57939/57939 [==============================] - 51s 874us/step - loss: 0.0488 - acc: 0.9783 - val_loss: 0.0480 - val_acc: 0.9785\n",
            "Epoch 24/200\n",
            "57939/57939 [==============================] - 51s 874us/step - loss: 0.0488 - acc: 0.9782 - val_loss: 0.0466 - val_acc: 0.9786\n",
            "Epoch 25/200\n",
            "57939/57939 [==============================] - 51s 873us/step - loss: 0.0481 - acc: 0.9787 - val_loss: 0.0456 - val_acc: 0.9796\n",
            "Epoch 26/200\n",
            "57939/57939 [==============================] - 51s 874us/step - loss: 0.0498 - acc: 0.9783 - val_loss: 0.0474 - val_acc: 0.9787\n",
            "Epoch 27/200\n",
            "57939/57939 [==============================] - 51s 873us/step - loss: 0.0473 - acc: 0.9789 - val_loss: 0.0452 - val_acc: 0.9788\n",
            "Epoch 28/200\n",
            "57939/57939 [==============================] - 51s 872us/step - loss: 0.0463 - acc: 0.9790 - val_loss: 0.0453 - val_acc: 0.9788\n",
            "Epoch 29/200\n",
            "57939/57939 [==============================] - 51s 872us/step - loss: 0.0470 - acc: 0.9789 - val_loss: 0.0451 - val_acc: 0.9790\n",
            "Epoch 30/200\n",
            "57939/57939 [==============================] - 50s 871us/step - loss: 0.0480 - acc: 0.9786 - val_loss: 0.0454 - val_acc: 0.9792\n",
            "Epoch 31/200\n",
            "57939/57939 [==============================] - 50s 871us/step - loss: 0.0484 - acc: 0.9784 - val_loss: 0.0474 - val_acc: 0.9784\n",
            "Epoch 32/200\n",
            "57939/57939 [==============================] - 50s 870us/step - loss: 0.0461 - acc: 0.9795 - val_loss: 0.0464 - val_acc: 0.9785\n",
            "Epoch 33/200\n",
            "57939/57939 [==============================] - 50s 870us/step - loss: 0.0478 - acc: 0.9788 - val_loss: 0.0455 - val_acc: 0.9795\n",
            "Epoch 34/200\n",
            "57939/57939 [==============================] - 50s 870us/step - loss: 0.0457 - acc: 0.9791 - val_loss: 0.0460 - val_acc: 0.9785\n",
            "Epoch 35/200\n",
            "57939/57939 [==============================] - 50s 870us/step - loss: 0.0465 - acc: 0.9790 - val_loss: 0.0459 - val_acc: 0.9786\n",
            "Epoch 36/200\n",
            "57939/57939 [==============================] - 50s 870us/step - loss: 0.0479 - acc: 0.9787 - val_loss: 0.0466 - val_acc: 0.9796\n",
            "Epoch 37/200\n",
            "57939/57939 [==============================] - 50s 869us/step - loss: 0.0472 - acc: 0.9791 - val_loss: 0.0483 - val_acc: 0.9783\n",
            "Epoch 38/200\n",
            "57939/57939 [==============================] - 50s 870us/step - loss: 0.0461 - acc: 0.9790 - val_loss: 0.0451 - val_acc: 0.9788\n",
            "Epoch 39/200\n",
            "57939/57939 [==============================] - 50s 870us/step - loss: 0.0461 - acc: 0.9791 - val_loss: 0.0475 - val_acc: 0.9780\n",
            "Epoch 40/200\n",
            "57939/57939 [==============================] - 50s 870us/step - loss: 0.0457 - acc: 0.9795 - val_loss: 0.0485 - val_acc: 0.9777\n",
            "Epoch 41/200\n",
            "57939/57939 [==============================] - 50s 870us/step - loss: 0.0465 - acc: 0.9793 - val_loss: 0.0474 - val_acc: 0.9783\n",
            "Epoch 42/200\n",
            "57939/57939 [==============================] - 50s 870us/step - loss: 0.0473 - acc: 0.9788 - val_loss: 0.0485 - val_acc: 0.9786\n",
            "Epoch 43/200\n",
            "57939/57939 [==============================] - 50s 871us/step - loss: 0.0489 - acc: 0.9784 - val_loss: 0.0493 - val_acc: 0.9774\n",
            "Epoch 44/200\n",
            "57939/57939 [==============================] - 50s 870us/step - loss: 0.0473 - acc: 0.9788 - val_loss: 0.0480 - val_acc: 0.9789\n",
            "Epoch 45/200\n",
            "57939/57939 [==============================] - 50s 871us/step - loss: 0.0449 - acc: 0.9798 - val_loss: 0.0463 - val_acc: 0.9791\n",
            "Epoch 46/200\n",
            "57939/57939 [==============================] - 50s 869us/step - loss: 0.0454 - acc: 0.9796 - val_loss: 0.0490 - val_acc: 0.9773\n",
            "Epoch 47/200\n",
            "57939/57939 [==============================] - 50s 871us/step - loss: 0.0464 - acc: 0.9793 - val_loss: 0.0455 - val_acc: 0.9792\n",
            "Epoch 48/200\n",
            "57939/57939 [==============================] - 50s 868us/step - loss: 0.0500 - acc: 0.9781 - val_loss: 0.0462 - val_acc: 0.9790\n",
            "Epoch 49/200\n",
            "57939/57939 [==============================] - 50s 868us/step - loss: 0.0456 - acc: 0.9795 - val_loss: 0.0455 - val_acc: 0.9791\n",
            "Epoch 50/200\n",
            "57939/57939 [==============================] - 50s 870us/step - loss: 0.0469 - acc: 0.9793 - val_loss: 0.0487 - val_acc: 0.9783\n",
            "Epoch 51/200\n",
            "57939/57939 [==============================] - 50s 870us/step - loss: 0.0451 - acc: 0.9796 - val_loss: 0.0458 - val_acc: 0.9797\n",
            "Epoch 52/200\n",
            "57939/57939 [==============================] - 50s 870us/step - loss: 0.0489 - acc: 0.9784 - val_loss: 0.0449 - val_acc: 0.9789\n",
            "Epoch 53/200\n",
            "57939/57939 [==============================] - 50s 867us/step - loss: 0.0442 - acc: 0.9799 - val_loss: 0.0453 - val_acc: 0.9788\n",
            "Epoch 54/200\n",
            "57939/57939 [==============================] - 50s 870us/step - loss: 0.0454 - acc: 0.9795 - val_loss: 0.0441 - val_acc: 0.9794\n",
            "Epoch 55/200\n",
            "57939/57939 [==============================] - 50s 870us/step - loss: 0.0470 - acc: 0.9790 - val_loss: 0.0472 - val_acc: 0.9788\n",
            "Epoch 56/200\n",
            "57939/57939 [==============================] - 50s 867us/step - loss: 0.0458 - acc: 0.9794 - val_loss: 0.0446 - val_acc: 0.9792\n",
            "Epoch 57/200\n",
            "57939/57939 [==============================] - 50s 869us/step - loss: 0.0449 - acc: 0.9798 - val_loss: 0.0453 - val_acc: 0.9787\n",
            "Epoch 58/200\n",
            "57939/57939 [==============================] - 50s 868us/step - loss: 0.0458 - acc: 0.9798 - val_loss: 0.0456 - val_acc: 0.9790\n",
            "Epoch 59/200\n",
            "57939/57939 [==============================] - 50s 868us/step - loss: 0.0452 - acc: 0.9794 - val_loss: 0.0472 - val_acc: 0.9788\n",
            "Epoch 60/200\n",
            "57939/57939 [==============================] - 50s 869us/step - loss: 0.0449 - acc: 0.9796 - val_loss: 0.0440 - val_acc: 0.9792\n",
            "Epoch 61/200\n",
            "57939/57939 [==============================] - 50s 867us/step - loss: 0.0440 - acc: 0.9799 - val_loss: 0.0447 - val_acc: 0.9788\n",
            "Epoch 62/200\n",
            "57939/57939 [==============================] - 50s 867us/step - loss: 0.0439 - acc: 0.9799 - val_loss: 0.0447 - val_acc: 0.9794\n",
            "Epoch 63/200\n",
            "57939/57939 [==============================] - 50s 868us/step - loss: 0.0447 - acc: 0.9798 - val_loss: 0.0448 - val_acc: 0.9796\n",
            "Epoch 64/200\n",
            "57939/57939 [==============================] - 50s 868us/step - loss: 0.0444 - acc: 0.9797 - val_loss: 0.0462 - val_acc: 0.9783\n",
            "Epoch 65/200\n",
            "57939/57939 [==============================] - 50s 869us/step - loss: 0.0444 - acc: 0.9800 - val_loss: 0.0445 - val_acc: 0.9795\n",
            "Epoch 66/200\n",
            "57939/57939 [==============================] - 50s 868us/step - loss: 0.0478 - acc: 0.9788 - val_loss: 0.0450 - val_acc: 0.9794\n",
            "Epoch 67/200\n",
            "57939/57939 [==============================] - 50s 869us/step - loss: 0.0451 - acc: 0.9797 - val_loss: 0.0444 - val_acc: 0.9793\n",
            "Epoch 68/200\n",
            "57939/57939 [==============================] - 50s 868us/step - loss: 0.0443 - acc: 0.9798 - val_loss: 0.0472 - val_acc: 0.9785\n",
            "Epoch 69/200\n",
            "57939/57939 [==============================] - 50s 868us/step - loss: 0.0466 - acc: 0.9791 - val_loss: 0.0448 - val_acc: 0.9793\n",
            "Epoch 70/200\n",
            "57939/57939 [==============================] - 50s 869us/step - loss: 0.0460 - acc: 0.9796 - val_loss: 0.0456 - val_acc: 0.9792\n",
            "Epoch 71/200\n",
            "57939/57939 [==============================] - 50s 868us/step - loss: 0.0442 - acc: 0.9797 - val_loss: 0.0443 - val_acc: 0.9796\n",
            "Epoch 72/200\n",
            "57939/57939 [==============================] - 50s 867us/step - loss: 0.0436 - acc: 0.9802 - val_loss: 0.0441 - val_acc: 0.9799\n",
            "Epoch 73/200\n",
            "57939/57939 [==============================] - 50s 868us/step - loss: 0.0454 - acc: 0.9794 - val_loss: 0.0481 - val_acc: 0.9783\n",
            "Epoch 74/200\n",
            "57939/57939 [==============================] - 50s 868us/step - loss: 0.0442 - acc: 0.9800 - val_loss: 0.0461 - val_acc: 0.9783\n",
            "Epoch 75/200\n",
            "57939/57939 [==============================] - 50s 869us/step - loss: 0.0461 - acc: 0.9788 - val_loss: 0.0471 - val_acc: 0.9785\n",
            "Epoch 00075: early stopping\n",
            "dict_keys(['val_loss', 'val_acc', 'loss', 'acc'])\n"
          ],
          "name": "stdout"
        },
        {
          "output_type": "display_data",
          "data": {
            "image/png": "[encoded data removed]",
            "text/plain": [
              "<Figure size 432x288 with 1 Axes>"
            ]
          },
          "metadata": {
            "tags": []
          }
        },
        {
          "output_type": "display_data",
          "data": {
            "image/png": "[encoded data removed]",
            "text/plain": [
              "<Figure size 432x288 with 1 Axes>"
            ]
          },
          "metadata": {
            "tags": []
          }
        },
        {
          "output_type": "stream",
          "text": [
            "0.9801515386471188\n",
            "0.9799102521658685\n",
            "CPU times: user 27min 29s, sys: 17min 57s, total: 45min 27s\n",
            "Wall time: 1h 3min 11s\n"
          ],
          "name": "stdout"
        }
      ]
    },
    {
      "cell_type": "code",
      "metadata": {
        "colab_type": "code",
        "id": "OKGsRqNBz3Or",
        "colab": {}
      },
      "source": [
        "# # モデルの出力\n",
        "from keras.models import model_from_json\n",
        "open('MSNN10k.json',\"w\").write(model.to_json())\n",
        "model.save_weights('MSNN10k.h5')"
      ],
      "execution_count": 0,
      "outputs": []
    },
    {
      "cell_type": "code",
      "metadata": {
        "colab_type": "code",
        "id": "owB8HpFSGoKH",
        "outputId": "ed2dfd69-80dd-49b1-c21b-5a4ab71ef2e5",
        "colab": {
          "base_uri": "https://localhost:8080/",
          "height": 68
        }
      },
      "source": [
        "# テスト\n",
        "%%time\n",
        "import random\n",
        "# ---- 保存用配列を確保 ---\n",
        "right = 0\n",
        "full_cnt = 0;\n",
        "for index, folder in enumerate(folders):\n",
        "    files = glob.glob(folder+\"*.png\")\n",
        "    random.shuffle(files)\n",
        "    for i, file in enumerate(files):\n",
        "        image = cv2.imread(file, cv2.IMREAD_GRAYSCALE)\n",
        "        image = cv2.resize(image,(image_size, image_size))\n",
        "        image = image.reshape(image_size, image_size,1)\n",
        "        image = np.array([image]) # 4次元配列にしないと入力できない\n",
        "        y_pred_probability = model.predict(image)\n",
        "        \n",
        "        # 出力をクラスベクトルから整数値に変換\n",
        "        y_pred = np.argmax(y_pred_probability, axis=1)\n",
        "        \n",
        "        # 予測結果の表示\n",
        "        if index <3:\n",
        "          class_index = 0\n",
        "        else:\n",
        "          class_index = 1\n",
        "        #print('正解ラベル: {0}, 予測結果： {1} with the probability of {2}'.format(class_index, y_pred,y_pred_probability[0][y_pred])) # やっぱり合ってる.\n",
        "        full_cnt = full_cnt +1\n",
        "        if  y_pred == y_pred_probability[0][y_pred]:\n",
        "          right = right +1 \n",
        "\n",
        "right = right/full_cnt\n",
        "print(right)\n",
        "\n",
        "    "
      ],
      "execution_count": 0,
      "outputs": [
        {
          "output_type": "stream",
          "text": [
            "0.25224258970358815\n",
            "CPU times: user 4min 1s, sys: 27 s, total: 4min 28s\n",
            "Wall time: 3min 38s\n"
          ],
          "name": "stdout"
        }
      ]
    }
  ]
}